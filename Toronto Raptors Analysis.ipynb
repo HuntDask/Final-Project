{
 "cells": [
  {
   "cell_type": "code",
   "execution_count": 1,
   "id": "3615886f",
   "metadata": {},
   "outputs": [],
   "source": [
    "import warnings\n",
    "warnings.filterwarnings('ignore')"
   ]
  },
  {
   "cell_type": "code",
   "execution_count": 2,
   "id": "74b93a15",
   "metadata": {},
   "outputs": [],
   "source": [
    "import numpy as np\n",
    "import pandas as pd\n",
    "from pathlib import Path\n",
    "from collections import Counter"
   ]
  },
  {
   "cell_type": "code",
   "execution_count": 3,
   "id": "e91d0adc",
   "metadata": {},
   "outputs": [],
   "source": [
    "file_path = Path('../Toronto Raptors Analysis')\n",
    "\n",
    "# Load the regular data\n",
    "reg_df = pd.read_csv(f\"{file_path}/raptors_regulars.csv\")\n",
    "\n",
    "# Load the playoff data\n",
    "playoff_df = pd.read_csv(f\"{file_path}/raptorsplayoffs.csv\")"
   ]
  },
  {
   "cell_type": "code",
   "execution_count": 4,
   "id": "375c5659",
   "metadata": {},
   "outputs": [
    {
     "name": "stdout",
     "output_type": "stream",
     "text": [
      "TEAM        object\n",
      "DATE        object\n",
      "MATCHUP     object\n",
      "W/L         object\n",
      "MIN          int64\n",
      "PTS          int64\n",
      "FGM          int64\n",
      "FGA          int64\n",
      "FG%        float64\n",
      "3PM          int64\n",
      "3PA          int64\n",
      "3P%        float64\n",
      "FTM          int64\n",
      "FTA          int64\n",
      "FT%        float64\n",
      "OREB         int64\n",
      "DREB         int64\n",
      "REB          int64\n",
      "AST          int64\n",
      "STL          int64\n",
      "BLK          int64\n",
      "TOV          int64\n",
      "PF           int64\n",
      "+/-          int64\n",
      "dtype: object\n",
      "TEAM        object\n",
      "DATE        object\n",
      "MATCHUP     object\n",
      "W/L         object\n",
      "MIN          int64\n",
      "PTS          int64\n",
      "FGM          int64\n",
      "FGA          int64\n",
      "FG%        float64\n",
      "3PM          int64\n",
      "3PA          int64\n",
      "3P%        float64\n",
      "FTM          int64\n",
      "FTA          int64\n",
      "FT%        float64\n",
      "OREB         int64\n",
      "DREB         int64\n",
      "REB          int64\n",
      "AST          int64\n",
      "STL          int64\n",
      "BLK          int64\n",
      "TOV          int64\n",
      "PF           int64\n",
      "+/-          int64\n",
      "dtype: object\n"
     ]
    }
   ],
   "source": [
    "# Here we Inspect columns/data types\n",
    "\n",
    "print(reg_df.dtypes)\n",
    "\n",
    "print(playoff_df.dtypes)"
   ]
  },
  {
   "cell_type": "code",
   "execution_count": 5,
   "id": "91b16b2c",
   "metadata": {},
   "outputs": [
    {
     "data": {
      "text/html": [
       "<div>\n",
       "<style scoped>\n",
       "    .dataframe tbody tr th:only-of-type {\n",
       "        vertical-align: middle;\n",
       "    }\n",
       "\n",
       "    .dataframe tbody tr th {\n",
       "        vertical-align: top;\n",
       "    }\n",
       "\n",
       "    .dataframe thead th {\n",
       "        text-align: right;\n",
       "    }\n",
       "</style>\n",
       "<table border=\"1\" class=\"dataframe\">\n",
       "  <thead>\n",
       "    <tr style=\"text-align: right;\">\n",
       "      <th></th>\n",
       "      <th>TEAM</th>\n",
       "      <th>DATE</th>\n",
       "      <th>MATCHUP</th>\n",
       "      <th>W/L</th>\n",
       "      <th>MIN</th>\n",
       "      <th>PTS</th>\n",
       "      <th>FGM</th>\n",
       "      <th>FGA</th>\n",
       "      <th>FG%</th>\n",
       "      <th>3PM</th>\n",
       "      <th>...</th>\n",
       "      <th>FT%</th>\n",
       "      <th>OREB</th>\n",
       "      <th>DREB</th>\n",
       "      <th>REB</th>\n",
       "      <th>AST</th>\n",
       "      <th>STL</th>\n",
       "      <th>BLK</th>\n",
       "      <th>TOV</th>\n",
       "      <th>PF</th>\n",
       "      <th>+/-</th>\n",
       "    </tr>\n",
       "  </thead>\n",
       "  <tbody>\n",
       "    <tr>\n",
       "      <th>0</th>\n",
       "      <td>TOR</td>\n",
       "      <td>01/13/2019</td>\n",
       "      <td>TOR @ WAS</td>\n",
       "      <td>W</td>\n",
       "      <td>290</td>\n",
       "      <td>140</td>\n",
       "      <td>49</td>\n",
       "      <td>104</td>\n",
       "      <td>47.1</td>\n",
       "      <td>13</td>\n",
       "      <td>...</td>\n",
       "      <td>80.6</td>\n",
       "      <td>17</td>\n",
       "      <td>42</td>\n",
       "      <td>59</td>\n",
       "      <td>24</td>\n",
       "      <td>16</td>\n",
       "      <td>8</td>\n",
       "      <td>21</td>\n",
       "      <td>27</td>\n",
       "      <td>2</td>\n",
       "    </tr>\n",
       "    <tr>\n",
       "      <th>1</th>\n",
       "      <td>TOR</td>\n",
       "      <td>11/29/2018</td>\n",
       "      <td>TOR vs. GSW</td>\n",
       "      <td>W</td>\n",
       "      <td>265</td>\n",
       "      <td>131</td>\n",
       "      <td>47</td>\n",
       "      <td>90</td>\n",
       "      <td>52.2</td>\n",
       "      <td>15</td>\n",
       "      <td>...</td>\n",
       "      <td>91.7</td>\n",
       "      <td>7</td>\n",
       "      <td>30</td>\n",
       "      <td>37</td>\n",
       "      <td>25</td>\n",
       "      <td>5</td>\n",
       "      <td>6</td>\n",
       "      <td>14</td>\n",
       "      <td>23</td>\n",
       "      <td>3</td>\n",
       "    </tr>\n",
       "    <tr>\n",
       "      <th>2</th>\n",
       "      <td>TOR</td>\n",
       "      <td>02/13/2019</td>\n",
       "      <td>TOR vs. WAS</td>\n",
       "      <td>W</td>\n",
       "      <td>241</td>\n",
       "      <td>129</td>\n",
       "      <td>44</td>\n",
       "      <td>92</td>\n",
       "      <td>47.8</td>\n",
       "      <td>16</td>\n",
       "      <td>...</td>\n",
       "      <td>83.3</td>\n",
       "      <td>9</td>\n",
       "      <td>43</td>\n",
       "      <td>52</td>\n",
       "      <td>32</td>\n",
       "      <td>8</td>\n",
       "      <td>8</td>\n",
       "      <td>14</td>\n",
       "      <td>27</td>\n",
       "      <td>9</td>\n",
       "    </tr>\n",
       "  </tbody>\n",
       "</table>\n",
       "<p>3 rows × 24 columns</p>\n",
       "</div>"
      ],
      "text/plain": [
       "  TEAM        DATE      MATCHUP W/L  MIN  PTS  FGM  FGA   FG%  3PM  ...   FT%  \\\n",
       "0  TOR  01/13/2019    TOR @ WAS   W  290  140   49  104  47.1   13  ...  80.6   \n",
       "1  TOR  11/29/2018  TOR vs. GSW   W  265  131   47   90  52.2   15  ...  91.7   \n",
       "2  TOR  02/13/2019  TOR vs. WAS   W  241  129   44   92  47.8   16  ...  83.3   \n",
       "\n",
       "   OREB  DREB  REB  AST  STL  BLK  TOV  PF  +/-  \n",
       "0    17    42   59   24   16    8   21  27    2  \n",
       "1     7    30   37   25    5    6   14  23    3  \n",
       "2     9    43   52   32    8    8   14  27    9  \n",
       "\n",
       "[3 rows x 24 columns]"
      ]
     },
     "execution_count": 5,
     "metadata": {},
     "output_type": "execute_result"
    }
   ],
   "source": [
    "# Here I join the 2 datasets using concat()\n",
    "\n",
    "joined_df = pd.concat([reg_df,playoff_df], ignore_index=True)\n",
    "\n",
    "joined_df.head(3)"
   ]
  },
  {
   "cell_type": "code",
   "execution_count": null,
   "id": "58b481d9",
   "metadata": {},
   "outputs": [],
   "source": [
    "# Clean our Data"
   ]
  },
  {
   "cell_type": "code",
   "execution_count": 6,
   "id": "f7eb5e65",
   "metadata": {},
   "outputs": [
    {
     "data": {
      "text/html": [
       "<div>\n",
       "<style scoped>\n",
       "    .dataframe tbody tr th:only-of-type {\n",
       "        vertical-align: middle;\n",
       "    }\n",
       "\n",
       "    .dataframe tbody tr th {\n",
       "        vertical-align: top;\n",
       "    }\n",
       "\n",
       "    .dataframe thead th {\n",
       "        text-align: right;\n",
       "    }\n",
       "</style>\n",
       "<table border=\"1\" class=\"dataframe\">\n",
       "  <thead>\n",
       "    <tr style=\"text-align: right;\">\n",
       "      <th></th>\n",
       "      <th>W/L</th>\n",
       "      <th>MIN</th>\n",
       "      <th>PTS</th>\n",
       "      <th>FGM</th>\n",
       "      <th>FGA</th>\n",
       "      <th>FG%</th>\n",
       "      <th>3PM</th>\n",
       "      <th>3PA</th>\n",
       "      <th>3P%</th>\n",
       "      <th>FTM</th>\n",
       "      <th>FTA</th>\n",
       "      <th>FT%</th>\n",
       "      <th>OREB</th>\n",
       "      <th>DREB</th>\n",
       "      <th>REB</th>\n",
       "      <th>AST</th>\n",
       "      <th>STL</th>\n",
       "      <th>BLK</th>\n",
       "      <th>TOV</th>\n",
       "      <th>PF</th>\n",
       "    </tr>\n",
       "  </thead>\n",
       "  <tbody>\n",
       "    <tr>\n",
       "      <th>0</th>\n",
       "      <td>W</td>\n",
       "      <td>290</td>\n",
       "      <td>140</td>\n",
       "      <td>49</td>\n",
       "      <td>104</td>\n",
       "      <td>47.1</td>\n",
       "      <td>13</td>\n",
       "      <td>36</td>\n",
       "      <td>36.1</td>\n",
       "      <td>29</td>\n",
       "      <td>36</td>\n",
       "      <td>80.6</td>\n",
       "      <td>17</td>\n",
       "      <td>42</td>\n",
       "      <td>59</td>\n",
       "      <td>24</td>\n",
       "      <td>16</td>\n",
       "      <td>8</td>\n",
       "      <td>21</td>\n",
       "      <td>27</td>\n",
       "    </tr>\n",
       "    <tr>\n",
       "      <th>1</th>\n",
       "      <td>W</td>\n",
       "      <td>265</td>\n",
       "      <td>131</td>\n",
       "      <td>47</td>\n",
       "      <td>90</td>\n",
       "      <td>52.2</td>\n",
       "      <td>15</td>\n",
       "      <td>38</td>\n",
       "      <td>39.5</td>\n",
       "      <td>22</td>\n",
       "      <td>24</td>\n",
       "      <td>91.7</td>\n",
       "      <td>7</td>\n",
       "      <td>30</td>\n",
       "      <td>37</td>\n",
       "      <td>25</td>\n",
       "      <td>5</td>\n",
       "      <td>6</td>\n",
       "      <td>14</td>\n",
       "      <td>23</td>\n",
       "    </tr>\n",
       "    <tr>\n",
       "      <th>2</th>\n",
       "      <td>W</td>\n",
       "      <td>241</td>\n",
       "      <td>129</td>\n",
       "      <td>44</td>\n",
       "      <td>92</td>\n",
       "      <td>47.8</td>\n",
       "      <td>16</td>\n",
       "      <td>38</td>\n",
       "      <td>42.1</td>\n",
       "      <td>25</td>\n",
       "      <td>30</td>\n",
       "      <td>83.3</td>\n",
       "      <td>9</td>\n",
       "      <td>43</td>\n",
       "      <td>52</td>\n",
       "      <td>32</td>\n",
       "      <td>8</td>\n",
       "      <td>8</td>\n",
       "      <td>14</td>\n",
       "      <td>27</td>\n",
       "    </tr>\n",
       "  </tbody>\n",
       "</table>\n",
       "</div>"
      ],
      "text/plain": [
       "  W/L  MIN  PTS  FGM  FGA   FG%  3PM  3PA   3P%  FTM  FTA   FT%  OREB  DREB  \\\n",
       "0   W  290  140   49  104  47.1   13   36  36.1   29   36  80.6    17    42   \n",
       "1   W  265  131   47   90  52.2   15   38  39.5   22   24  91.7     7    30   \n",
       "2   W  241  129   44   92  47.8   16   38  42.1   25   30  83.3     9    43   \n",
       "\n",
       "   REB  AST  STL  BLK  TOV  PF  \n",
       "0   59   24   16    8   21  27  \n",
       "1   37   25    5    6   14  23  \n",
       "2   52   32    8    8   14  27  "
      ]
     },
     "execution_count": 6,
     "metadata": {},
     "output_type": "execute_result"
    }
   ],
   "source": [
    "# Drop columns we are not using \n",
    "dropped_df = joined_df.drop([\"DATE\", \"TEAM\",\"MATCHUP\",\"+/-\"], axis=1)\n",
    "\n",
    "dropped_df.head(3)"
   ]
  },
  {
   "cell_type": "code",
   "execution_count": 7,
   "id": "c4fb3256",
   "metadata": {},
   "outputs": [
    {
     "data": {
      "text/plain": [
       "W/L      object\n",
       "MIN       int64\n",
       "PTS       int64\n",
       "FGM       int64\n",
       "FGA       int64\n",
       "FG%     float64\n",
       "3PM       int64\n",
       "3PA       int64\n",
       "3P%     float64\n",
       "FTM       int64\n",
       "FTA       int64\n",
       "FT%     float64\n",
       "OREB      int64\n",
       "DREB      int64\n",
       "REB       int64\n",
       "AST       int64\n",
       "STL       int64\n",
       "BLK       int64\n",
       "TOV       int64\n",
       "PF        int64\n",
       "dtype: object"
      ]
     },
     "execution_count": 7,
     "metadata": {},
     "output_type": "execute_result"
    }
   ],
   "source": [
    "dropped_df.dtypes"
   ]
  },
  {
   "cell_type": "code",
   "execution_count": 8,
   "id": "4d48ac45",
   "metadata": {},
   "outputs": [
    {
     "data": {
      "text/plain": [
       "W    74\n",
       "L    32\n",
       "Name: W/L, dtype: int64"
      ]
     },
     "execution_count": 8,
     "metadata": {},
     "output_type": "execute_result"
    }
   ],
   "source": [
    "# Count total wins and losses\n",
    "dropped_df[\"W/L\"].value_counts()"
   ]
  },
  {
   "cell_type": "code",
   "execution_count": 9,
   "id": "be53c68a",
   "metadata": {},
   "outputs": [
    {
     "data": {
      "text/plain": [
       "0    74\n",
       "1    32\n",
       "Name: W/L, dtype: int64"
      ]
     },
     "execution_count": 9,
     "metadata": {},
     "output_type": "execute_result"
    }
   ],
   "source": [
    "# Convert W/L column \n",
    "# Make W = 0 and L = 1\n",
    "\n",
    "dropped_df.loc[dropped_df['W/L'] == \"W\", \"W/L\"] = 0\n",
    "dropped_df.loc[dropped_df['W/L'] == \"L\", \"W/L\"] = 1\n",
    "\n",
    "dropped_df[\"W/L\"] = pd.to_numeric(dropped_df[\"W/L\"])\n",
    "    \n",
    "dropped_df[\"W/L\"].value_counts()"
   ]
  },
  {
   "cell_type": "code",
   "execution_count": 10,
   "id": "2004d663",
   "metadata": {},
   "outputs": [
    {
     "data": {
      "text/plain": [
       "W/L       int64\n",
       "MIN       int64\n",
       "PTS       int64\n",
       "FGM       int64\n",
       "FGA       int64\n",
       "FG%     float64\n",
       "3PM       int64\n",
       "3PA       int64\n",
       "3P%     float64\n",
       "FTM       int64\n",
       "FTA       int64\n",
       "FT%     float64\n",
       "OREB      int64\n",
       "DREB      int64\n",
       "REB       int64\n",
       "AST       int64\n",
       "STL       int64\n",
       "BLK       int64\n",
       "TOV       int64\n",
       "PF        int64\n",
       "dtype: object"
      ]
     },
     "execution_count": 10,
     "metadata": {},
     "output_type": "execute_result"
    }
   ],
   "source": [
    "dropped_df.dtypes"
   ]
  },
  {
   "cell_type": "code",
   "execution_count": 11,
   "id": "6c513f71",
   "metadata": {},
   "outputs": [
    {
     "data": {
      "text/html": [
       "<div>\n",
       "<style scoped>\n",
       "    .dataframe tbody tr th:only-of-type {\n",
       "        vertical-align: middle;\n",
       "    }\n",
       "\n",
       "    .dataframe tbody tr th {\n",
       "        vertical-align: top;\n",
       "    }\n",
       "\n",
       "    .dataframe thead th {\n",
       "        text-align: right;\n",
       "    }\n",
       "</style>\n",
       "<table border=\"1\" class=\"dataframe\">\n",
       "  <thead>\n",
       "    <tr style=\"text-align: right;\">\n",
       "      <th></th>\n",
       "      <th>W/L</th>\n",
       "      <th>MIN</th>\n",
       "      <th>PTS</th>\n",
       "      <th>FGM</th>\n",
       "      <th>FGA</th>\n",
       "      <th>FG%</th>\n",
       "      <th>3PM</th>\n",
       "      <th>3PA</th>\n",
       "      <th>3P%</th>\n",
       "      <th>FTM</th>\n",
       "      <th>FTA</th>\n",
       "      <th>FT%</th>\n",
       "      <th>OREB</th>\n",
       "      <th>DREB</th>\n",
       "      <th>REB</th>\n",
       "      <th>AST</th>\n",
       "      <th>STL</th>\n",
       "      <th>BLK</th>\n",
       "      <th>TOV</th>\n",
       "      <th>PF</th>\n",
       "    </tr>\n",
       "  </thead>\n",
       "  <tbody>\n",
       "    <tr>\n",
       "      <th>0</th>\n",
       "      <td>0</td>\n",
       "      <td>290</td>\n",
       "      <td>140</td>\n",
       "      <td>49</td>\n",
       "      <td>104</td>\n",
       "      <td>47.1</td>\n",
       "      <td>13</td>\n",
       "      <td>36</td>\n",
       "      <td>36.1</td>\n",
       "      <td>29</td>\n",
       "      <td>36</td>\n",
       "      <td>80.6</td>\n",
       "      <td>17</td>\n",
       "      <td>42</td>\n",
       "      <td>59</td>\n",
       "      <td>24</td>\n",
       "      <td>16</td>\n",
       "      <td>8</td>\n",
       "      <td>21</td>\n",
       "      <td>27</td>\n",
       "    </tr>\n",
       "    <tr>\n",
       "      <th>1</th>\n",
       "      <td>0</td>\n",
       "      <td>265</td>\n",
       "      <td>131</td>\n",
       "      <td>47</td>\n",
       "      <td>90</td>\n",
       "      <td>52.2</td>\n",
       "      <td>15</td>\n",
       "      <td>38</td>\n",
       "      <td>39.5</td>\n",
       "      <td>22</td>\n",
       "      <td>24</td>\n",
       "      <td>91.7</td>\n",
       "      <td>7</td>\n",
       "      <td>30</td>\n",
       "      <td>37</td>\n",
       "      <td>25</td>\n",
       "      <td>5</td>\n",
       "      <td>6</td>\n",
       "      <td>14</td>\n",
       "      <td>23</td>\n",
       "    </tr>\n",
       "    <tr>\n",
       "      <th>2</th>\n",
       "      <td>0</td>\n",
       "      <td>241</td>\n",
       "      <td>129</td>\n",
       "      <td>44</td>\n",
       "      <td>92</td>\n",
       "      <td>47.8</td>\n",
       "      <td>16</td>\n",
       "      <td>38</td>\n",
       "      <td>42.1</td>\n",
       "      <td>25</td>\n",
       "      <td>30</td>\n",
       "      <td>83.3</td>\n",
       "      <td>9</td>\n",
       "      <td>43</td>\n",
       "      <td>52</td>\n",
       "      <td>32</td>\n",
       "      <td>8</td>\n",
       "      <td>8</td>\n",
       "      <td>14</td>\n",
       "      <td>27</td>\n",
       "    </tr>\n",
       "  </tbody>\n",
       "</table>\n",
       "</div>"
      ],
      "text/plain": [
       "   W/L  MIN  PTS  FGM  FGA   FG%  3PM  3PA   3P%  FTM  FTA   FT%  OREB  DREB  \\\n",
       "0    0  290  140   49  104  47.1   13   36  36.1   29   36  80.6    17    42   \n",
       "1    0  265  131   47   90  52.2   15   38  39.5   22   24  91.7     7    30   \n",
       "2    0  241  129   44   92  47.8   16   38  42.1   25   30  83.3     9    43   \n",
       "\n",
       "   REB  AST  STL  BLK  TOV  PF  \n",
       "0   59   24   16    8   21  27  \n",
       "1   37   25    5    6   14  23  \n",
       "2   52   32    8    8   14  27  "
      ]
     },
     "execution_count": 11,
     "metadata": {},
     "output_type": "execute_result"
    }
   ],
   "source": [
    "# Drop the null columns and rows\n",
    "cleaned_df = dropped_df.dropna(axis='columns', how='all')\n",
    "\n",
    "\n",
    "cleaned_df = cleaned_df.dropna()\n",
    "\n",
    "cleaned_df.head(3)"
   ]
  },
  {
   "cell_type": "code",
   "execution_count": null,
   "id": "18a27e1c",
   "metadata": {},
   "outputs": [],
   "source": [
    "# Data Seperate into Testing and Training"
   ]
  },
  {
   "cell_type": "code",
   "execution_count": 12,
   "id": "fd2e5f16",
   "metadata": {},
   "outputs": [
    {
     "data": {
      "text/html": [
       "<div>\n",
       "<style scoped>\n",
       "    .dataframe tbody tr th:only-of-type {\n",
       "        vertical-align: middle;\n",
       "    }\n",
       "\n",
       "    .dataframe tbody tr th {\n",
       "        vertical-align: top;\n",
       "    }\n",
       "\n",
       "    .dataframe thead th {\n",
       "        text-align: right;\n",
       "    }\n",
       "</style>\n",
       "<table border=\"1\" class=\"dataframe\">\n",
       "  <thead>\n",
       "    <tr style=\"text-align: right;\">\n",
       "      <th></th>\n",
       "      <th>MIN</th>\n",
       "      <th>PTS</th>\n",
       "      <th>FGM</th>\n",
       "      <th>FGA</th>\n",
       "      <th>FG%</th>\n",
       "      <th>3PM</th>\n",
       "      <th>3PA</th>\n",
       "      <th>3P%</th>\n",
       "      <th>FTM</th>\n",
       "      <th>FTA</th>\n",
       "      <th>FT%</th>\n",
       "      <th>OREB</th>\n",
       "      <th>DREB</th>\n",
       "      <th>REB</th>\n",
       "      <th>AST</th>\n",
       "      <th>STL</th>\n",
       "      <th>BLK</th>\n",
       "      <th>TOV</th>\n",
       "      <th>PF</th>\n",
       "    </tr>\n",
       "  </thead>\n",
       "  <tbody>\n",
       "    <tr>\n",
       "      <th>0</th>\n",
       "      <td>290</td>\n",
       "      <td>140</td>\n",
       "      <td>49</td>\n",
       "      <td>104</td>\n",
       "      <td>47.1</td>\n",
       "      <td>13</td>\n",
       "      <td>36</td>\n",
       "      <td>36.1</td>\n",
       "      <td>29</td>\n",
       "      <td>36</td>\n",
       "      <td>80.6</td>\n",
       "      <td>17</td>\n",
       "      <td>42</td>\n",
       "      <td>59</td>\n",
       "      <td>24</td>\n",
       "      <td>16</td>\n",
       "      <td>8</td>\n",
       "      <td>21</td>\n",
       "      <td>27</td>\n",
       "    </tr>\n",
       "    <tr>\n",
       "      <th>1</th>\n",
       "      <td>265</td>\n",
       "      <td>131</td>\n",
       "      <td>47</td>\n",
       "      <td>90</td>\n",
       "      <td>52.2</td>\n",
       "      <td>15</td>\n",
       "      <td>38</td>\n",
       "      <td>39.5</td>\n",
       "      <td>22</td>\n",
       "      <td>24</td>\n",
       "      <td>91.7</td>\n",
       "      <td>7</td>\n",
       "      <td>30</td>\n",
       "      <td>37</td>\n",
       "      <td>25</td>\n",
       "      <td>5</td>\n",
       "      <td>6</td>\n",
       "      <td>14</td>\n",
       "      <td>23</td>\n",
       "    </tr>\n",
       "    <tr>\n",
       "      <th>2</th>\n",
       "      <td>241</td>\n",
       "      <td>129</td>\n",
       "      <td>44</td>\n",
       "      <td>92</td>\n",
       "      <td>47.8</td>\n",
       "      <td>16</td>\n",
       "      <td>38</td>\n",
       "      <td>42.1</td>\n",
       "      <td>25</td>\n",
       "      <td>30</td>\n",
       "      <td>83.3</td>\n",
       "      <td>9</td>\n",
       "      <td>43</td>\n",
       "      <td>52</td>\n",
       "      <td>32</td>\n",
       "      <td>8</td>\n",
       "      <td>8</td>\n",
       "      <td>14</td>\n",
       "      <td>27</td>\n",
       "    </tr>\n",
       "  </tbody>\n",
       "</table>\n",
       "</div>"
      ],
      "text/plain": [
       "   MIN  PTS  FGM  FGA   FG%  3PM  3PA   3P%  FTM  FTA   FT%  OREB  DREB  REB  \\\n",
       "0  290  140   49  104  47.1   13   36  36.1   29   36  80.6    17    42   59   \n",
       "1  265  131   47   90  52.2   15   38  39.5   22   24  91.7     7    30   37   \n",
       "2  241  129   44   92  47.8   16   38  42.1   25   30  83.3     9    43   52   \n",
       "\n",
       "   AST  STL  BLK  TOV  PF  \n",
       "0   24   16    8   21  27  \n",
       "1   25    5    6   14  23  \n",
       "2   32    8    8   14  27  "
      ]
     },
     "execution_count": 12,
     "metadata": {},
     "output_type": "execute_result"
    }
   ],
   "source": [
    "# Create the features\n",
    "\n",
    "X = cleaned_df.copy()\n",
    "X = X.drop(\"W/L\", axis = 1)\n",
    "\n",
    "X.head(3)\n"
   ]
  },
  {
   "cell_type": "code",
   "execution_count": 14,
   "id": "2b4a80a0",
   "metadata": {},
   "outputs": [
    {
     "data": {
      "text/html": [
       "<div>\n",
       "<style scoped>\n",
       "    .dataframe tbody tr th:only-of-type {\n",
       "        vertical-align: middle;\n",
       "    }\n",
       "\n",
       "    .dataframe tbody tr th {\n",
       "        vertical-align: top;\n",
       "    }\n",
       "\n",
       "    .dataframe thead th {\n",
       "        text-align: right;\n",
       "    }\n",
       "</style>\n",
       "<table border=\"1\" class=\"dataframe\">\n",
       "  <thead>\n",
       "    <tr style=\"text-align: right;\">\n",
       "      <th></th>\n",
       "      <th>MIN</th>\n",
       "      <th>PTS</th>\n",
       "      <th>FGM</th>\n",
       "      <th>FGA</th>\n",
       "      <th>FG%</th>\n",
       "      <th>3PM</th>\n",
       "      <th>3PA</th>\n",
       "      <th>3P%</th>\n",
       "      <th>FTM</th>\n",
       "      <th>FTA</th>\n",
       "      <th>FT%</th>\n",
       "      <th>OREB</th>\n",
       "      <th>DREB</th>\n",
       "      <th>REB</th>\n",
       "      <th>AST</th>\n",
       "      <th>STL</th>\n",
       "      <th>BLK</th>\n",
       "      <th>TOV</th>\n",
       "      <th>PF</th>\n",
       "    </tr>\n",
       "  </thead>\n",
       "  <tbody>\n",
       "    <tr>\n",
       "      <th>count</th>\n",
       "      <td>106.000000</td>\n",
       "      <td>106.000000</td>\n",
       "      <td>106.000000</td>\n",
       "      <td>106.000000</td>\n",
       "      <td>106.000000</td>\n",
       "      <td>106.000000</td>\n",
       "      <td>106.000000</td>\n",
       "      <td>106.000000</td>\n",
       "      <td>106.000000</td>\n",
       "      <td>106.000000</td>\n",
       "      <td>106.000000</td>\n",
       "      <td>106.000000</td>\n",
       "      <td>106.000000</td>\n",
       "      <td>106.000000</td>\n",
       "      <td>106.000000</td>\n",
       "      <td>106.000000</td>\n",
       "      <td>106.000000</td>\n",
       "      <td>106.000000</td>\n",
       "      <td>106.000000</td>\n",
       "    </tr>\n",
       "    <tr>\n",
       "      <th>mean</th>\n",
       "      <td>242.349057</td>\n",
       "      <td>112.660377</td>\n",
       "      <td>41.169811</td>\n",
       "      <td>88.103774</td>\n",
       "      <td>46.934906</td>\n",
       "      <td>12.273585</td>\n",
       "      <td>33.943396</td>\n",
       "      <td>36.039623</td>\n",
       "      <td>18.047170</td>\n",
       "      <td>22.283019</td>\n",
       "      <td>81.386792</td>\n",
       "      <td>9.292453</td>\n",
       "      <td>35.254717</td>\n",
       "      <td>44.547170</td>\n",
       "      <td>24.773585</td>\n",
       "      <td>8.235849</td>\n",
       "      <td>5.160377</td>\n",
       "      <td>12.915094</td>\n",
       "      <td>21.386792</td>\n",
       "    </tr>\n",
       "    <tr>\n",
       "      <th>std</th>\n",
       "      <td>8.866247</td>\n",
       "      <td>11.018501</td>\n",
       "      <td>4.705562</td>\n",
       "      <td>6.883976</td>\n",
       "      <td>5.795648</td>\n",
       "      <td>3.511974</td>\n",
       "      <td>5.366262</td>\n",
       "      <td>8.347383</td>\n",
       "      <td>5.677662</td>\n",
       "      <td>6.974450</td>\n",
       "      <td>9.092614</td>\n",
       "      <td>3.799667</td>\n",
       "      <td>4.612739</td>\n",
       "      <td>5.648653</td>\n",
       "      <td>5.368840</td>\n",
       "      <td>3.302386</td>\n",
       "      <td>2.398955</td>\n",
       "      <td>3.532483</td>\n",
       "      <td>3.951060</td>\n",
       "    </tr>\n",
       "    <tr>\n",
       "      <th>min</th>\n",
       "      <td>238.000000</td>\n",
       "      <td>86.000000</td>\n",
       "      <td>28.000000</td>\n",
       "      <td>69.000000</td>\n",
       "      <td>29.500000</td>\n",
       "      <td>4.000000</td>\n",
       "      <td>20.000000</td>\n",
       "      <td>20.000000</td>\n",
       "      <td>6.000000</td>\n",
       "      <td>7.000000</td>\n",
       "      <td>58.800000</td>\n",
       "      <td>2.000000</td>\n",
       "      <td>25.000000</td>\n",
       "      <td>31.000000</td>\n",
       "      <td>13.000000</td>\n",
       "      <td>1.000000</td>\n",
       "      <td>0.000000</td>\n",
       "      <td>6.000000</td>\n",
       "      <td>13.000000</td>\n",
       "    </tr>\n",
       "    <tr>\n",
       "      <th>25%</th>\n",
       "      <td>239.000000</td>\n",
       "      <td>105.000000</td>\n",
       "      <td>38.000000</td>\n",
       "      <td>84.000000</td>\n",
       "      <td>42.700000</td>\n",
       "      <td>10.000000</td>\n",
       "      <td>30.000000</td>\n",
       "      <td>29.000000</td>\n",
       "      <td>13.250000</td>\n",
       "      <td>17.000000</td>\n",
       "      <td>76.375000</td>\n",
       "      <td>6.000000</td>\n",
       "      <td>32.250000</td>\n",
       "      <td>41.000000</td>\n",
       "      <td>21.000000</td>\n",
       "      <td>6.000000</td>\n",
       "      <td>4.000000</td>\n",
       "      <td>10.000000</td>\n",
       "      <td>19.000000</td>\n",
       "    </tr>\n",
       "    <tr>\n",
       "      <th>50%</th>\n",
       "      <td>240.000000</td>\n",
       "      <td>114.000000</td>\n",
       "      <td>41.000000</td>\n",
       "      <td>88.500000</td>\n",
       "      <td>47.350000</td>\n",
       "      <td>12.000000</td>\n",
       "      <td>34.000000</td>\n",
       "      <td>35.800000</td>\n",
       "      <td>18.000000</td>\n",
       "      <td>22.000000</td>\n",
       "      <td>81.550000</td>\n",
       "      <td>8.000000</td>\n",
       "      <td>35.000000</td>\n",
       "      <td>44.000000</td>\n",
       "      <td>25.000000</td>\n",
       "      <td>8.000000</td>\n",
       "      <td>5.000000</td>\n",
       "      <td>13.000000</td>\n",
       "      <td>21.000000</td>\n",
       "    </tr>\n",
       "    <tr>\n",
       "      <th>75%</th>\n",
       "      <td>241.000000</td>\n",
       "      <td>121.750000</td>\n",
       "      <td>44.000000</td>\n",
       "      <td>92.000000</td>\n",
       "      <td>51.575000</td>\n",
       "      <td>15.000000</td>\n",
       "      <td>38.000000</td>\n",
       "      <td>41.450000</td>\n",
       "      <td>22.000000</td>\n",
       "      <td>27.000000</td>\n",
       "      <td>87.300000</td>\n",
       "      <td>12.000000</td>\n",
       "      <td>38.000000</td>\n",
       "      <td>49.000000</td>\n",
       "      <td>29.000000</td>\n",
       "      <td>10.000000</td>\n",
       "      <td>6.000000</td>\n",
       "      <td>15.000000</td>\n",
       "      <td>24.000000</td>\n",
       "    </tr>\n",
       "    <tr>\n",
       "      <th>max</th>\n",
       "      <td>290.000000</td>\n",
       "      <td>140.000000</td>\n",
       "      <td>53.000000</td>\n",
       "      <td>105.000000</td>\n",
       "      <td>60.900000</td>\n",
       "      <td>21.000000</td>\n",
       "      <td>47.000000</td>\n",
       "      <td>58.100000</td>\n",
       "      <td>32.000000</td>\n",
       "      <td>40.000000</td>\n",
       "      <td>100.000000</td>\n",
       "      <td>18.000000</td>\n",
       "      <td>47.000000</td>\n",
       "      <td>59.000000</td>\n",
       "      <td>36.000000</td>\n",
       "      <td>19.000000</td>\n",
       "      <td>12.000000</td>\n",
       "      <td>23.000000</td>\n",
       "      <td>30.000000</td>\n",
       "    </tr>\n",
       "  </tbody>\n",
       "</table>\n",
       "</div>"
      ],
      "text/plain": [
       "              MIN         PTS         FGM         FGA         FG%         3PM  \\\n",
       "count  106.000000  106.000000  106.000000  106.000000  106.000000  106.000000   \n",
       "mean   242.349057  112.660377   41.169811   88.103774   46.934906   12.273585   \n",
       "std      8.866247   11.018501    4.705562    6.883976    5.795648    3.511974   \n",
       "min    238.000000   86.000000   28.000000   69.000000   29.500000    4.000000   \n",
       "25%    239.000000  105.000000   38.000000   84.000000   42.700000   10.000000   \n",
       "50%    240.000000  114.000000   41.000000   88.500000   47.350000   12.000000   \n",
       "75%    241.000000  121.750000   44.000000   92.000000   51.575000   15.000000   \n",
       "max    290.000000  140.000000   53.000000  105.000000   60.900000   21.000000   \n",
       "\n",
       "              3PA         3P%         FTM         FTA         FT%        OREB  \\\n",
       "count  106.000000  106.000000  106.000000  106.000000  106.000000  106.000000   \n",
       "mean    33.943396   36.039623   18.047170   22.283019   81.386792    9.292453   \n",
       "std      5.366262    8.347383    5.677662    6.974450    9.092614    3.799667   \n",
       "min     20.000000   20.000000    6.000000    7.000000   58.800000    2.000000   \n",
       "25%     30.000000   29.000000   13.250000   17.000000   76.375000    6.000000   \n",
       "50%     34.000000   35.800000   18.000000   22.000000   81.550000    8.000000   \n",
       "75%     38.000000   41.450000   22.000000   27.000000   87.300000   12.000000   \n",
       "max     47.000000   58.100000   32.000000   40.000000  100.000000   18.000000   \n",
       "\n",
       "             DREB         REB         AST         STL         BLK         TOV  \\\n",
       "count  106.000000  106.000000  106.000000  106.000000  106.000000  106.000000   \n",
       "mean    35.254717   44.547170   24.773585    8.235849    5.160377   12.915094   \n",
       "std      4.612739    5.648653    5.368840    3.302386    2.398955    3.532483   \n",
       "min     25.000000   31.000000   13.000000    1.000000    0.000000    6.000000   \n",
       "25%     32.250000   41.000000   21.000000    6.000000    4.000000   10.000000   \n",
       "50%     35.000000   44.000000   25.000000    8.000000    5.000000   13.000000   \n",
       "75%     38.000000   49.000000   29.000000   10.000000    6.000000   15.000000   \n",
       "max     47.000000   59.000000   36.000000   19.000000   12.000000   23.000000   \n",
       "\n",
       "               PF  \n",
       "count  106.000000  \n",
       "mean    21.386792  \n",
       "std      3.951060  \n",
       "min     13.000000  \n",
       "25%     19.000000  \n",
       "50%     21.000000  \n",
       "75%     24.000000  \n",
       "max     30.000000  "
      ]
     },
     "execution_count": 14,
     "metadata": {},
     "output_type": "execute_result"
    }
   ],
   "source": [
    "# Create our target\n",
    "\n",
    "target = [\"W/L\"]\n",
    "\n",
    "y = cleaned_df[target]\n",
    "y[:5]\n",
    "\n",
    "X.describe()"
   ]
  },
  {
   "cell_type": "code",
   "execution_count": 15,
   "id": "3b1d3cc0",
   "metadata": {},
   "outputs": [
    {
     "data": {
      "text/plain": [
       "0    74\n",
       "1    32\n",
       "Name: W/L, dtype: int64"
      ]
     },
     "execution_count": 15,
     "metadata": {},
     "output_type": "execute_result"
    }
   ],
   "source": [
    "y[\"W/L\"].value_counts()"
   ]
  },
  {
   "cell_type": "code",
   "execution_count": 16,
   "id": "af6d1449",
   "metadata": {},
   "outputs": [],
   "source": [
    "from sklearn.model_selection import train_test_split\n",
    "X_train, X_test, y_train, y_test = train_test_split(X, y, random_state=1)"
   ]
  },
  {
   "cell_type": "code",
   "execution_count": null,
   "id": "652825f4",
   "metadata": {},
   "outputs": [],
   "source": [
    "# OVERSAMPLING"
   ]
  },
  {
   "cell_type": "code",
   "execution_count": null,
   "id": "40067442",
   "metadata": {},
   "outputs": [],
   "source": [
    "# NAIVE RANDOM OVERSAMPLING"
   ]
  },
  {
   "cell_type": "code",
   "execution_count": 18,
   "id": "7a6360b4",
   "metadata": {},
   "outputs": [
    {
     "data": {
      "text/plain": [
       "Counter({'W/L': 1})"
      ]
     },
     "execution_count": 18,
     "metadata": {},
     "output_type": "execute_result"
    }
   ],
   "source": [
    "# RandomOversampler\n",
    "from imblearn.over_sampling import RandomOverSampler\n",
    "ros = RandomOverSampler(random_state=1)\n",
    "X_resampled, y_resampled = ros.fit_resample(X_train, y_train)\n",
    "\n",
    "Counter(y_resampled)"
   ]
  },
  {
   "cell_type": "code",
   "execution_count": 19,
   "id": "a307c9d7",
   "metadata": {},
   "outputs": [
    {
     "data": {
      "text/plain": [
       "LogisticRegression(random_state=1)"
      ]
     },
     "execution_count": 19,
     "metadata": {},
     "output_type": "execute_result"
    }
   ],
   "source": [
    "# Resample\n",
    "from sklearn.linear_model import LogisticRegression\n",
    "\n",
    "model = LogisticRegression(solver='lbfgs', random_state=1)\n",
    "model.fit(X_resampled, y_resampled)"
   ]
  },
  {
   "cell_type": "code",
   "execution_count": 20,
   "id": "bb37cdd1",
   "metadata": {},
   "outputs": [
    {
     "data": {
      "text/plain": [
       "0.8583333333333334"
      ]
     },
     "execution_count": 20,
     "metadata": {},
     "output_type": "execute_result"
    }
   ],
   "source": [
    "# Accuracy score\n",
    "y_pred = model.predict(X_test)\n",
    "\n",
    "from sklearn.metrics import balanced_accuracy_score\n",
    "\n",
    "balanced_accuracy_score(y_test, y_pred)"
   ]
  },
  {
   "cell_type": "code",
   "execution_count": 22,
   "id": "67095a8f",
   "metadata": {},
   "outputs": [
    {
     "data": {
      "text/html": [
       "<div>\n",
       "<style scoped>\n",
       "    .dataframe tbody tr th:only-of-type {\n",
       "        vertical-align: middle;\n",
       "    }\n",
       "\n",
       "    .dataframe tbody tr th {\n",
       "        vertical-align: top;\n",
       "    }\n",
       "\n",
       "    .dataframe thead th {\n",
       "        text-align: right;\n",
       "    }\n",
       "</style>\n",
       "<table border=\"1\" class=\"dataframe\">\n",
       "  <thead>\n",
       "    <tr style=\"text-align: right;\">\n",
       "      <th></th>\n",
       "      <th>Predicted Wins</th>\n",
       "      <th>Predicted Losses</th>\n",
       "    </tr>\n",
       "  </thead>\n",
       "  <tbody>\n",
       "    <tr>\n",
       "      <th>Actual Wins</th>\n",
       "      <td>12</td>\n",
       "      <td>3</td>\n",
       "    </tr>\n",
       "    <tr>\n",
       "      <th>Actual Losses</th>\n",
       "      <td>1</td>\n",
       "      <td>11</td>\n",
       "    </tr>\n",
       "  </tbody>\n",
       "</table>\n",
       "</div>"
      ],
      "text/plain": [
       "               Predicted Wins  Predicted Losses\n",
       "Actual Wins                12                 3\n",
       "Actual Losses               1                11"
      ]
     },
     "execution_count": 22,
     "metadata": {},
     "output_type": "execute_result"
    }
   ],
   "source": [
    "# confusion matrix\n",
    "from sklearn.metrics import confusion_matrix\n",
    "\n",
    "cm = confusion_matrix(y_test, y_pred)\n",
    "\n",
    "cm_df = pd.DataFrame(\n",
    "    cm, index = [\"Actual Wins\", \"Actual Losses\"], columns=[\"Predicted Wins\", \"Predicted Losses\"])\n",
    "cm_df"
   ]
  },
  {
   "cell_type": "code",
   "execution_count": 23,
   "id": "16dc1a31",
   "metadata": {},
   "outputs": [
    {
     "name": "stdout",
     "output_type": "stream",
     "text": [
      "                   pre       rec       spe        f1       geo       iba       sup\n",
      "\n",
      "          0       0.92      0.80      0.92      0.86      0.86      0.72        15\n",
      "          1       0.79      0.92      0.80      0.85      0.86      0.74        12\n",
      "\n",
      "avg / total       0.86      0.85      0.86      0.85      0.86      0.73        27\n",
      "\n"
     ]
    }
   ],
   "source": [
    "# Report\n",
    "from imblearn.metrics import classification_report_imbalanced\n",
    "print(classification_report_imbalanced(y_test, y_pred))"
   ]
  },
  {
   "cell_type": "code",
   "execution_count": null,
   "id": "36399b58",
   "metadata": {},
   "outputs": [],
   "source": [
    "# SMOTE"
   ]
  },
  {
   "cell_type": "code",
   "execution_count": 24,
   "id": "61d69dd3",
   "metadata": {},
   "outputs": [
    {
     "data": {
      "text/plain": [
       "Counter({'W/L': 1})"
      ]
     },
     "execution_count": 24,
     "metadata": {},
     "output_type": "execute_result"
    }
   ],
   "source": [
    "from imblearn.over_sampling import SMOTE\n",
    "X_resampled, y_resampled = SMOTE(random_state=1, sampling_strategy='auto').fit_resample(\n",
    "    X_train, y_train\n",
    ")\n",
    "Counter(y_resampled)"
   ]
  },
  {
   "cell_type": "code",
   "execution_count": 25,
   "id": "33e2841a",
   "metadata": {},
   "outputs": [
    {
     "data": {
      "text/plain": [
       "LogisticRegression(random_state=1)"
      ]
     },
     "execution_count": 25,
     "metadata": {},
     "output_type": "execute_result"
    }
   ],
   "source": [
    "# Resample\n",
    "model = LogisticRegression(solver='lbfgs', random_state=1)\n",
    "model.fit(X_resampled, y_resampled)"
   ]
  },
  {
   "cell_type": "code",
   "execution_count": 26,
   "id": "5a7f1f96",
   "metadata": {},
   "outputs": [
    {
     "data": {
      "text/plain": [
       "0.8"
      ]
     },
     "execution_count": 26,
     "metadata": {},
     "output_type": "execute_result"
    }
   ],
   "source": [
    "# Accuracy score\n",
    "y_pred = model.predict(X_test)\n",
    "balanced_accuracy_score(y_test, y_pred)"
   ]
  },
  {
   "cell_type": "code",
   "execution_count": 27,
   "id": "f3108742",
   "metadata": {},
   "outputs": [
    {
     "data": {
      "text/html": [
       "<div>\n",
       "<style scoped>\n",
       "    .dataframe tbody tr th:only-of-type {\n",
       "        vertical-align: middle;\n",
       "    }\n",
       "\n",
       "    .dataframe tbody tr th {\n",
       "        vertical-align: top;\n",
       "    }\n",
       "\n",
       "    .dataframe thead th {\n",
       "        text-align: right;\n",
       "    }\n",
       "</style>\n",
       "<table border=\"1\" class=\"dataframe\">\n",
       "  <thead>\n",
       "    <tr style=\"text-align: right;\">\n",
       "      <th></th>\n",
       "      <th>Predicted Wins</th>\n",
       "      <th>Predicted Losses</th>\n",
       "    </tr>\n",
       "  </thead>\n",
       "  <tbody>\n",
       "    <tr>\n",
       "      <th>Actual Wins</th>\n",
       "      <td>14</td>\n",
       "      <td>1</td>\n",
       "    </tr>\n",
       "    <tr>\n",
       "      <th>Actual Losses</th>\n",
       "      <td>4</td>\n",
       "      <td>8</td>\n",
       "    </tr>\n",
       "  </tbody>\n",
       "</table>\n",
       "</div>"
      ],
      "text/plain": [
       "               Predicted Wins  Predicted Losses\n",
       "Actual Wins                14                 1\n",
       "Actual Losses               4                 8"
      ]
     },
     "execution_count": 27,
     "metadata": {},
     "output_type": "execute_result"
    }
   ],
   "source": [
    "# Confusion matrix\n",
    "\n",
    "from sklearn.metrics import confusion_matrix\n",
    "\n",
    "cm = confusion_matrix(y_test, y_pred)\n",
    "\n",
    "cm_df = pd.DataFrame(\n",
    "    cm, index = [\"Actual Wins\", \"Actual Losses\"], columns=[\"Predicted Wins\", \"Predicted Losses\"])\n",
    "cm_df"
   ]
  },
  {
   "cell_type": "code",
   "execution_count": 29,
   "id": "e32127cd",
   "metadata": {},
   "outputs": [
    {
     "name": "stdout",
     "output_type": "stream",
     "text": [
      "                   pre       rec       spe        f1       geo       iba       sup\n",
      "\n",
      "          0       0.78      0.93      0.67      0.85      0.79      0.64        15\n",
      "          1       0.89      0.67      0.93      0.76      0.79      0.61        12\n",
      "\n",
      "avg / total       0.83      0.81      0.79      0.81      0.79      0.62        27\n",
      "\n"
     ]
    }
   ],
   "source": [
    "# Report\n",
    "print(classification_report_imbalanced(y_test, y_pred))"
   ]
  },
  {
   "cell_type": "code",
   "execution_count": 30,
   "id": "6e1f9265",
   "metadata": {},
   "outputs": [],
   "source": [
    "# UNDERSAMPLING"
   ]
  },
  {
   "cell_type": "code",
   "execution_count": 31,
   "id": "201d346d",
   "metadata": {},
   "outputs": [
    {
     "data": {
      "text/plain": [
       "Counter({'W/L': 1})"
      ]
     },
     "execution_count": 31,
     "metadata": {},
     "output_type": "execute_result"
    }
   ],
   "source": [
    "# ClusterCentroids\n",
    "from imblearn.under_sampling import ClusterCentroids\n",
    "cc = ClusterCentroids(random_state=1)\n",
    "X_resampled, y_resampled = cc.fit_resample(X_train, y_train)\n",
    "Counter(y_resampled)"
   ]
  },
  {
   "cell_type": "code",
   "execution_count": 32,
   "id": "ca0e2e65",
   "metadata": {},
   "outputs": [
    {
     "data": {
      "text/plain": [
       "LogisticRegression(random_state=1)"
      ]
     },
     "execution_count": 32,
     "metadata": {},
     "output_type": "execute_result"
    }
   ],
   "source": [
    "# Resample\n",
    "from sklearn.linear_model import LogisticRegression\n",
    "model = LogisticRegression(solver='lbfgs', random_state=1)\n",
    "model.fit(X_resampled, y_resampled)"
   ]
  },
  {
   "cell_type": "code",
   "execution_count": 33,
   "id": "617d6970",
   "metadata": {},
   "outputs": [
    {
     "data": {
      "text/plain": [
       "0.8500000000000001"
      ]
     },
     "execution_count": 33,
     "metadata": {},
     "output_type": "execute_result"
    }
   ],
   "source": [
    "# Accuracy score\n",
    "y_pred = model.predict(X_test)\n",
    "\n",
    "from sklearn.metrics import balanced_accuracy_score\n",
    "balanced_accuracy_score(y_test, y_pred)"
   ]
  },
  {
   "cell_type": "code",
   "execution_count": 34,
   "id": "00a3e13f",
   "metadata": {},
   "outputs": [
    {
     "data": {
      "text/html": [
       "<div>\n",
       "<style scoped>\n",
       "    .dataframe tbody tr th:only-of-type {\n",
       "        vertical-align: middle;\n",
       "    }\n",
       "\n",
       "    .dataframe tbody tr th {\n",
       "        vertical-align: top;\n",
       "    }\n",
       "\n",
       "    .dataframe thead th {\n",
       "        text-align: right;\n",
       "    }\n",
       "</style>\n",
       "<table border=\"1\" class=\"dataframe\">\n",
       "  <thead>\n",
       "    <tr style=\"text-align: right;\">\n",
       "      <th></th>\n",
       "      <th>Predicted Wins</th>\n",
       "      <th>Predicted Losses</th>\n",
       "    </tr>\n",
       "  </thead>\n",
       "  <tbody>\n",
       "    <tr>\n",
       "      <th>Actual Wins</th>\n",
       "      <td>13</td>\n",
       "      <td>2</td>\n",
       "    </tr>\n",
       "    <tr>\n",
       "      <th>Actual Losses</th>\n",
       "      <td>2</td>\n",
       "      <td>10</td>\n",
       "    </tr>\n",
       "  </tbody>\n",
       "</table>\n",
       "</div>"
      ],
      "text/plain": [
       "               Predicted Wins  Predicted Losses\n",
       "Actual Wins                13                 2\n",
       "Actual Losses               2                10"
      ]
     },
     "execution_count": 34,
     "metadata": {},
     "output_type": "execute_result"
    }
   ],
   "source": [
    "# Confusion matrix\n",
    "\n",
    "from sklearn.metrics import confusion_matrix\n",
    "\n",
    "cm = confusion_matrix(y_test, y_pred)\n",
    "\n",
    "cm_df = pd.DataFrame(\n",
    "    cm, index = [\"Actual Wins\", \"Actual Losses\"], columns=[\"Predicted Wins\", \"Predicted Losses\"])\n",
    "cm_df"
   ]
  },
  {
   "cell_type": "code",
   "execution_count": 35,
   "id": "6cf9baf1",
   "metadata": {},
   "outputs": [
    {
     "name": "stdout",
     "output_type": "stream",
     "text": [
      "                   pre       rec       spe        f1       geo       iba       sup\n",
      "\n",
      "          0       0.87      0.87      0.83      0.87      0.85      0.72        15\n",
      "          1       0.83      0.83      0.87      0.83      0.85      0.72        12\n",
      "\n",
      "avg / total       0.85      0.85      0.85      0.85      0.85      0.72        27\n",
      "\n"
     ]
    }
   ],
   "source": [
    "# Report\n",
    "from imblearn.metrics import classification_report_imbalanced\n",
    "print(classification_report_imbalanced(y_test, y_pred))"
   ]
  },
  {
   "cell_type": "code",
   "execution_count": 36,
   "id": "87faee01",
   "metadata": {},
   "outputs": [
    {
     "data": {
      "text/plain": [
       "Counter({'W/L': 1})"
      ]
     },
     "execution_count": 36,
     "metadata": {},
     "output_type": "execute_result"
    }
   ],
   "source": [
    "#SMOTTEN\n",
    "from imblearn.combine import SMOTEENN\n",
    "\n",
    "smote_enn = SMOTEENN(random_state=0)\n",
    "X_resampled, y_resampled = smote_enn.fit_resample(X, y)\n",
    "Counter(y_resampled)"
   ]
  },
  {
   "cell_type": "code",
   "execution_count": 37,
   "id": "36caa0cf",
   "metadata": {},
   "outputs": [
    {
     "data": {
      "text/plain": [
       "LogisticRegression(random_state=1)"
      ]
     },
     "execution_count": 37,
     "metadata": {},
     "output_type": "execute_result"
    }
   ],
   "source": [
    "# Resample\n",
    "\n",
    "from sklearn.linear_model import LogisticRegression\n",
    "model = LogisticRegression(solver='lbfgs', random_state=1)\n",
    "model.fit(X_resampled, y_resampled)"
   ]
  },
  {
   "cell_type": "code",
   "execution_count": 38,
   "id": "7efde513",
   "metadata": {},
   "outputs": [
    {
     "data": {
      "text/plain": [
       "0.8"
      ]
     },
     "execution_count": 38,
     "metadata": {},
     "output_type": "execute_result"
    }
   ],
   "source": [
    "# Accuracy score\n",
    "y_pred = model.predict(X_test)\n",
    "\n",
    "from sklearn.metrics import balanced_accuracy_score\n",
    "\n",
    "balanced_accuracy_score(y_test, y_pred)"
   ]
  },
  {
   "cell_type": "code",
   "execution_count": 39,
   "id": "a5d9fcb4",
   "metadata": {},
   "outputs": [
    {
     "data": {
      "text/html": [
       "<div>\n",
       "<style scoped>\n",
       "    .dataframe tbody tr th:only-of-type {\n",
       "        vertical-align: middle;\n",
       "    }\n",
       "\n",
       "    .dataframe tbody tr th {\n",
       "        vertical-align: top;\n",
       "    }\n",
       "\n",
       "    .dataframe thead th {\n",
       "        text-align: right;\n",
       "    }\n",
       "</style>\n",
       "<table border=\"1\" class=\"dataframe\">\n",
       "  <thead>\n",
       "    <tr style=\"text-align: right;\">\n",
       "      <th></th>\n",
       "      <th>Predicted Wins</th>\n",
       "      <th>Predicted Losses</th>\n",
       "    </tr>\n",
       "  </thead>\n",
       "  <tbody>\n",
       "    <tr>\n",
       "      <th>Actual Wins</th>\n",
       "      <td>9</td>\n",
       "      <td>6</td>\n",
       "    </tr>\n",
       "    <tr>\n",
       "      <th>Actual Losses</th>\n",
       "      <td>0</td>\n",
       "      <td>12</td>\n",
       "    </tr>\n",
       "  </tbody>\n",
       "</table>\n",
       "</div>"
      ],
      "text/plain": [
       "               Predicted Wins  Predicted Losses\n",
       "Actual Wins                 9                 6\n",
       "Actual Losses               0                12"
      ]
     },
     "execution_count": 39,
     "metadata": {},
     "output_type": "execute_result"
    }
   ],
   "source": [
    "# Confusion matrix\n",
    "from sklearn.metrics import confusion_matrix\n",
    "\n",
    "cm = confusion_matrix(y_test, y_pred)\n",
    "\n",
    "cm_df = pd.DataFrame(\n",
    "    cm, index = [\"Actual Wins\", \"Actual Losses\"], columns=[\"Predicted Wins\", \"Predicted Losses\"])\n",
    "cm_df"
   ]
  },
  {
   "cell_type": "code",
   "execution_count": 40,
   "id": "69c3cccb",
   "metadata": {},
   "outputs": [
    {
     "name": "stdout",
     "output_type": "stream",
     "text": [
      "                   pre       rec       spe        f1       geo       iba       sup\n",
      "\n",
      "          0       1.00      0.60      1.00      0.75      0.77      0.58        15\n",
      "          1       0.67      1.00      0.60      0.80      0.77      0.62        12\n",
      "\n",
      "avg / total       0.85      0.78      0.82      0.77      0.77      0.60        27\n",
      "\n"
     ]
    }
   ],
   "source": [
    "# Report\n",
    "from imblearn.metrics import classification_report_imbalanced\n",
    "\n",
    "print(classification_report_imbalanced(y_test, y_pred))"
   ]
  },
  {
   "cell_type": "code",
   "execution_count": null,
   "id": "d4bf7dd9",
   "metadata": {},
   "outputs": [],
   "source": []
  }
 ],
 "metadata": {
  "kernelspec": {
   "display_name": "PythonData",
   "language": "python",
   "name": "pythondata"
  },
  "language_info": {
   "codemirror_mode": {
    "name": "ipython",
    "version": 3
   },
   "file_extension": ".py",
   "mimetype": "text/x-python",
   "name": "python",
   "nbconvert_exporter": "python",
   "pygments_lexer": "ipython3",
   "version": "3.9.12"
  }
 },
 "nbformat": 4,
 "nbformat_minor": 5
}
